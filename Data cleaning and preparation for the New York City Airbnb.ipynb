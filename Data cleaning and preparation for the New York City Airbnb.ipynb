{
 "cells": [
  {
   "cell_type": "code",
   "execution_count": 1,
   "id": "1dc85b81",
   "metadata": {},
   "outputs": [
    {
     "name": "stderr",
     "output_type": "stream",
     "text": [
      "C:\\Users\\ARYAN PARIKH\\AppData\\Roaming\\Python\\Python311\\site-packages\\pandas\\core\\arrays\\masked.py:60: UserWarning: Pandas requires version '1.3.6' or newer of 'bottleneck' (version '1.3.5' currently installed).\n",
      "  from pandas.core import (\n"
     ]
    },
    {
     "name": "stdout",
     "output_type": "stream",
     "text": [
      "Original Dataset Info:\n",
      "<class 'pandas.core.frame.DataFrame'>\n",
      "RangeIndex: 48895 entries, 0 to 48894\n",
      "Data columns (total 16 columns):\n",
      " #   Column                          Non-Null Count  Dtype  \n",
      "---  ------                          --------------  -----  \n",
      " 0   id                              48895 non-null  int64  \n",
      " 1   name                            48879 non-null  object \n",
      " 2   host_id                         48895 non-null  int64  \n",
      " 3   host_name                       48874 non-null  object \n",
      " 4   neighbourhood_group             48895 non-null  object \n",
      " 5   neighbourhood                   48895 non-null  object \n",
      " 6   latitude                        48895 non-null  float64\n",
      " 7   longitude                       48895 non-null  float64\n",
      " 8   room_type                       48895 non-null  object \n",
      " 9   price                           48895 non-null  int64  \n",
      " 10  minimum_nights                  48895 non-null  int64  \n",
      " 11  number_of_reviews               48895 non-null  int64  \n",
      " 12  last_review                     38843 non-null  object \n",
      " 13  reviews_per_month               38843 non-null  float64\n",
      " 14  calculated_host_listings_count  48895 non-null  int64  \n",
      " 15  availability_365                48895 non-null  int64  \n",
      "dtypes: float64(3), int64(7), object(6)\n",
      "memory usage: 6.0+ MB\n",
      "None\n",
      "\n",
      "Cleaned Dataset Info:\n",
      "<class 'pandas.core.frame.DataFrame'>\n",
      "Index: 48656 entries, 0 to 48894\n",
      "Data columns (total 16 columns):\n",
      " #   Column                          Non-Null Count  Dtype         \n",
      "---  ------                          --------------  -----         \n",
      " 0   id                              48656 non-null  int64         \n",
      " 1   name                            48640 non-null  object        \n",
      " 2   host_id                         48656 non-null  int64         \n",
      " 3   host_name                       48635 non-null  object        \n",
      " 4   neighbourhood_group             48656 non-null  object        \n",
      " 5   neighbourhood                   48656 non-null  object        \n",
      " 6   latitude                        48656 non-null  float64       \n",
      " 7   longitude                       48656 non-null  float64       \n",
      " 8   room_type                       48656 non-null  object        \n",
      " 9   price                           48656 non-null  int64         \n",
      " 10  minimum_nights                  48656 non-null  int64         \n",
      " 11  number_of_reviews               48656 non-null  int64         \n",
      " 12  last_review                     38736 non-null  datetime64[ns]\n",
      " 13  reviews_per_month               48656 non-null  float64       \n",
      " 14  calculated_host_listings_count  48656 non-null  int64         \n",
      " 15  availability_365                48656 non-null  int64         \n",
      "dtypes: datetime64[ns](1), float64(3), int64(7), object(5)\n",
      "memory usage: 6.3+ MB\n",
      "None\n"
     ]
    },
    {
     "name": "stderr",
     "output_type": "stream",
     "text": [
      "C:\\Users\\ARYAN PARIKH\\AppData\\Local\\Temp\\ipykernel_1804\\1829462070.py:19: FutureWarning: A value is trying to be set on a copy of a DataFrame or Series through chained assignment using an inplace method.\n",
      "The behavior will change in pandas 3.0. This inplace method will never work because the intermediate object on which we are setting values always behaves as a copy.\n",
      "\n",
      "For example, when doing 'df[col].method(value, inplace=True)', try using 'df.method({col: value}, inplace=True)' or df[col] = df[col].method(value) instead, to perform the operation inplace on the original object.\n",
      "\n",
      "\n",
      "  df['reviews_per_month'].fillna(df['reviews_per_month'].mean(), inplace=True)\n"
     ]
    },
    {
     "data": {
      "image/png": "[encoded data removed]",
      "text/plain": [
       "<Figure size 1000x600 with 1 Axes>"
      ]
     },
     "metadata": {},
     "output_type": "display_data"
    }
   ],
   "source": [
    "# Import necessary libraries\n",
    "import pandas as pd\n",
    "import matplotlib.pyplot as plt\n",
    "\n",
    "# Load the dataset\n",
    "dataset_path = \"C:\\\\Users\\\\ARYAN PARIKH\\\\Downloads\\\\archive (1)\\\\AB_NYC_2019.csv\"\n",
    "df = pd.read_csv(dataset_path)\n",
    "\n",
    "# Display basic information about the dataset\n",
    "print(\"Original Dataset Info:\")\n",
    "print(df.info())\n",
    "\n",
    "# Data Integrity: Ensure the accuracy, consistency, and reliability of data\n",
    "# Example: Convert 'last_review' to datetime format\n",
    "df['last_review'] = pd.to_datetime(df['last_review'])\n",
    "\n",
    "# Missing Data Handling: Deal with missing values\n",
    "# Example: Fill missing values in 'reviews_per_month' with the mean\n",
    "df['reviews_per_month'].fillna(df['reviews_per_month'].mean(), inplace=True)\n",
    "\n",
    "# Duplicate Removal: Identify and eliminate duplicate records\n",
    "# Example: Drop duplicate rows based on all columns\n",
    "df.drop_duplicates(inplace=True)\n",
    "\n",
    "# Standardization: Consistent formatting and units across the dataset\n",
    "# Example: Convert 'price' to numeric and remove symbols\n",
    "df['price'] = pd.to_numeric(df['price'].replace('[\\$,]', '', regex=True))\n",
    "\n",
    "# Outlier Detection: Identify and address outliers\n",
    "# Example: Remove rows where 'price' is an outlier (considering a threshold)\n",
    "price_threshold = 1000\n",
    "df = df[df['price'] <= price_threshold]\n",
    "\n",
    "# Display information about the cleaned dataset\n",
    "print(\"\\nCleaned Dataset Info:\")\n",
    "print(df.info())\n",
    "\n",
    "# Save the cleaned dataset (if needed)\n",
    "# df.to_csv(\"cleaned_AB_NYC_2019.csv\", index=False)\n",
    "\n",
    "# Visualization: Plotting a histogram for 'price'\n",
    "plt.figure(figsize=(10, 6))\n",
    "plt.hist(df['price'], bins=50, color='skyblue', edgecolor='black')\n",
    "plt.title('Distribution of Prices')\n",
    "plt.xlabel('Price')\n",
    "plt.ylabel('Frequency')\n",
    "plt.show()\n"
   ]
  },
  {
   "cell_type": "code",
   "execution_count": null,
   "id": "c3adfb3f",
   "metadata": {},
   "outputs": [],
   "source": []
  }
 ],
 "metadata": {
  "kernelspec": {
   "display_name": "Python 3 (ipykernel)",
   "language": "python",
   "name": "python3"
  },
  "language_info": {
   "codemirror_mode": {
    "name": "ipython",
    "version": 3
   },
   "file_extension": ".py",
   "mimetype": "text/x-python",
   "name": "python",
   "nbconvert_exporter": "python",
   "pygments_lexer": "ipython3",
   "version": "3.11.5"
  }
 },
 "nbformat": 4,
 "nbformat_minor": 5
}
